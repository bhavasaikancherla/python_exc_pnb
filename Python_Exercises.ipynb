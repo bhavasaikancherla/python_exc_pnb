{
 "cells": [
  {
   "cell_type": "markdown",
   "id": "2ef3d3f6",
   "metadata": {
    "deletable": false,
    "editable": false,
    "nbgrader": {
     "cell_type": "markdown",
     "checksum": "fa824a4ddee5dc0d73e4c7af3205a142",
     "grade": false,
     "grade_id": "cell-86566c2beffdd9a8",
     "locked": true,
     "schema_version": 3,
     "solution": false,
     "task": false
    }
   },
   "source": [
    "# Python Exercises\n",
    "Epita 2023 - Camille Duquesne"
   ]
  },
  {
   "cell_type": "markdown",
   "id": "387336da",
   "metadata": {
    "deletable": false,
    "editable": false,
    "nbgrader": {
     "cell_type": "markdown",
     "checksum": "a6d055a0deeea3dc849119bf29fc94fb",
     "grade": false,
     "grade_id": "cell-23dcefc78c53565c",
     "locked": true,
     "schema_version": 3,
     "solution": false,
     "task": false
    }
   },
   "source": [
    "**Important informations**\n",
    "* All the exercices are going to be graded automatically. \n",
    "* Remember to fill in your name correctly.\n",
    "* If you delete cells that are commented as `#Do not delete` the automatic grading will directly award no points for that exercise.\n",
    "* Don't forget to remove `raise NotImplementedError()` if you code a solution for a function.\n",
    "* The name of the file should not be changed, otherwise the automatic grading will not see your sumbission and award 0.\n",
    "* Automatic plagiarism will also be run on your notebook.\n",
    "* As in any academic context, you should cite your sources and collaborators."
   ]
  },
  {
   "cell_type": "code",
   "execution_count": 137,
   "id": "c533b2ef",
   "metadata": {},
   "outputs": [],
   "source": [
    "Name = 'Bhava Sai Teja KANCHERLA' \n",
    "Collaborators = 'w3schools,stackOverflow,geekforgeeks,pythonDocs'"
   ]
  },
  {
   "cell_type": "markdown",
   "id": "8046752f",
   "metadata": {
    "deletable": false,
    "editable": false,
    "nbgrader": {
     "cell_type": "markdown",
     "checksum": "691dcd265540dae2f980ac734d3872e2",
     "grade": false,
     "grade_id": "cell-4edafdd178e3787a",
     "locked": true,
     "schema_version": 3,
     "solution": false,
     "task": false
    }
   },
   "source": [
    "## Exercice 1 - 4 points\n",
    "Write a function called reverse that, given a non-negative integer (entered as argument), returns the digits of this number within an array in reverse order. For example with input 35231 reverse should give [1,3,2,5,3] and for input 0 reverse should give [0]. "
   ]
  },
  {
   "cell_type": "code",
   "execution_count": 140,
   "id": "d44f3b24",
   "metadata": {
    "deletable": false,
    "nbgrader": {
     "cell_type": "code",
     "checksum": "f70aa6d6d7cbceae7fbf26257919b680",
     "grade": false,
     "grade_id": "cell-f03a6203b4b1c8fa",
     "locked": false,
     "schema_version": 3,
     "solution": true,
     "task": false
    }
   },
   "outputs": [],
   "source": [
    "#Do not delete\n",
    "def reverse(number):\n",
    "    a = str(number)\n",
    "    b = a[len(a)::-1]\n",
    "    rev_list=[]\n",
    "    for i in str(b):\n",
    "        rev_list.append(int(i))\n",
    "    return rev_list    "
   ]
  },
  {
   "cell_type": "code",
   "execution_count": 13,
   "id": "1229267f",
   "metadata": {},
   "outputs": [
    {
     "name": "stdout",
     "output_type": "stream",
     "text": [
      "[6, 5, 4, 3, 2, 1]\n"
     ]
    }
   ],
   "source": [
    "print(reverse(123456))"
   ]
  },
  {
   "cell_type": "code",
   "execution_count": 143,
   "id": "065d57f8",
   "metadata": {
    "deletable": false,
    "editable": false,
    "nbgrader": {
     "cell_type": "code",
     "checksum": "4828ee0b26553d2606348a1a21f47033",
     "grade": true,
     "grade_id": "cell-42dcac3b124d5554",
     "locked": true,
     "points": 4,
     "schema_version": 3,
     "solution": false,
     "task": false
    }
   },
   "outputs": [],
   "source": [
    "#If this cell runs without any errors then it means your function works perfectly :) \n",
    "#Do not delete\n",
    "assert reverse(35231) == [1,3,2,5,3]\n",
    "assert reverse(0) == [0]\n",
    "assert reverse(12345678910) == [0,1,9,8,7,6,5,4,3,2,1]\n",
    "assert reverse(3333) == [3,3,3,3]\n",
    "assert reverse(90) == [0,9]\n",
    "assert reverse(7692537291635382) == [2,8,3,5,3,6,1,9,2,7,3,5,2,9,6,7]"
   ]
  },
  {
   "cell_type": "markdown",
   "id": "1a550e26",
   "metadata": {
    "deletable": false,
    "editable": false,
    "nbgrader": {
     "cell_type": "markdown",
     "checksum": "78b979d3a2c46c1c065f4b465df433cc",
     "grade": false,
     "grade_id": "cell-a40eb6f8dac56e63",
     "locked": true,
     "schema_version": 3,
     "solution": false,
     "task": false
    }
   },
   "source": [
    "## Exercice 2 - 4 points\n",
    "Write a function called pretty_word, that given a string, reverses the string and omits and non-alphabetic characters. For example, for input `'krishan'` `pretty_word('krishan')` should give `'nahsirk'` and for input `'ultr53o?n'` `pretty_word('ultr53o?n')` should give `'nortlu'`."
   ]
  },
  {
   "cell_type": "code",
   "execution_count": 142,
   "id": "b3d43875",
   "metadata": {
    "deletable": false,
    "nbgrader": {
     "cell_type": "code",
     "checksum": "867b0bff89879ca22fd34d657afdd74f",
     "grade": false,
     "grade_id": "cell-78cf3a775f8bad17",
     "locked": false,
     "schema_version": 3,
     "solution": true,
     "task": false
    }
   },
   "outputs": [],
   "source": [
    "#Do not delete\n",
    "def pretty_word(word):\n",
    "    rev = []\n",
    "    for i in word[::-1]:\n",
    "        if i.isalpha():\n",
    "            rev.append(i)\n",
    "    return ''.join(rev)"
   ]
  },
  {
   "cell_type": "code",
   "execution_count": 25,
   "id": "e7ffcb40",
   "metadata": {},
   "outputs": [
    {
     "name": "stdout",
     "output_type": "stream",
     "text": [
      "nortlu\n"
     ]
    }
   ],
   "source": [
    "print(pretty_word(\"ultr53o?n\"))"
   ]
  },
  {
   "cell_type": "code",
   "execution_count": 24,
   "id": "f819f27f",
   "metadata": {
    "deletable": false,
    "editable": false,
    "nbgrader": {
     "cell_type": "code",
     "checksum": "eb3813604e41b7b3ede858a8fa1ae835",
     "grade": true,
     "grade_id": "cell-b185b0901b85a827",
     "locked": true,
     "points": 4,
     "schema_version": 3,
     "solution": false,
     "task": false
    }
   },
   "outputs": [],
   "source": [
    "#Do not delete\n",
    "assert pretty_word(\"krishan\") == \"nahsirk\"\n",
    "assert pretty_word(\"ultr53o?n\") == \"nortlu\"\n",
    "assert pretty_word(\"\") == \"\"\n",
    "assert pretty_word(\"!*)[!&@)$*\") == \"\"\n",
    "assert pretty_word(\"uh(tucz§0\") == \"zcuthu\"\n",
    "assert pretty_word(\"Kl98i$*Poi\") == \"ioPilK\""
   ]
  },
  {
   "cell_type": "markdown",
   "id": "bbccf983",
   "metadata": {
    "deletable": false,
    "editable": false,
    "nbgrader": {
     "cell_type": "markdown",
     "checksum": "17cb04daea926d30e7786707833ee106",
     "grade": false,
     "grade_id": "cell-49b1f061936854f1",
     "locked": true,
     "schema_version": 3,
     "solution": false,
     "task": false
    }
   },
   "source": [
    "## Exercice 3 - 6 points\n",
    "Write a function called `even_sorting` that, given an array of numbers, will sort the even numbers in ascending order while leaving the odd numbers at their original positions. \n",
    "Examples:\n",
    "\n",
    "[7, 1] => [7, 1]\n",
    "\n",
    "[5, 8, 6, 3, 4] => [5, 4, 6, 3, 8]\n",
    "\n",
    "[9, 8, 7, 6, 5, 4, 3, 2, 1, 0] => [9, 0, 7, 2, 5, 4, 3, 6, 1, 8]"
   ]
  },
  {
   "cell_type": "code",
   "execution_count": 145,
   "id": "d373d252",
   "metadata": {
    "deletable": false,
    "nbgrader": {
     "cell_type": "code",
     "checksum": "88dd353ccc9f3a0ae16fd42e54a6833b",
     "grade": false,
     "grade_id": "cell-9cc64f2e944a1e21",
     "locked": false,
     "schema_version": 3,
     "solution": true,
     "task": false
    }
   },
   "outputs": [],
   "source": [
    "#Do not delete\n",
    "def even_sorting(number_list):\n",
    "    even_list = sorted([n for n in number_list if n%2==0])\n",
    "    j = 0\n",
    "    res = []\n",
    "    for i in number_list:\n",
    "        if i%2==0:\n",
    "            res.append(even_list[j])\n",
    "            j += 1\n",
    "        else:\n",
    "            res.append(i)\n",
    "    return res"
   ]
  },
  {
   "cell_type": "code",
   "execution_count": 31,
   "id": "08ec47b5",
   "metadata": {},
   "outputs": [
    {
     "name": "stdout",
     "output_type": "stream",
     "text": [
      "[1, 2, 5, 2, 4, 9, 6, 8]\n"
     ]
    }
   ],
   "source": [
    "print(even_sorting([1, 4, 5, 2, 8, 9, 2, 6]))"
   ]
  },
  {
   "cell_type": "code",
   "execution_count": 144,
   "id": "ed625447",
   "metadata": {
    "deletable": false,
    "editable": false,
    "nbgrader": {
     "cell_type": "code",
     "checksum": "1fb17426df505f21b73031a2981cdc0d",
     "grade": true,
     "grade_id": "cell-20c9a211f1bfc7ab",
     "locked": true,
     "points": 6,
     "schema_version": 3,
     "solution": false,
     "task": false
    }
   },
   "outputs": [],
   "source": [
    "#Do not delete\n",
    "assert even_sorting([7, 1]) == [7, 1]\n",
    "assert even_sorting([5, 8, 6, 3, 4]) == [5, 4, 6, 3, 8]\n",
    "assert even_sorting([9, 8, 7, 6, 5, 4, 3, 2, 1, 0]) ==  [9, 0, 7, 2, 5, 4, 3, 6, 1, 8]\n",
    "assert even_sorting([5, 3, 1, 8, 0]) == [5, 3, 1, 0, 8]\n",
    "assert even_sorting([]) == []\n",
    "assert even_sorting([5, 3, 2, 8, 1, 4]) == [5, 3, 2, 4, 1, 8]"
   ]
  },
  {
   "cell_type": "markdown",
   "id": "321c76d6",
   "metadata": {
    "deletable": false,
    "editable": false,
    "nbgrader": {
     "cell_type": "markdown",
     "checksum": "41da0f5d8002dd6647933299824838f8",
     "grade": false,
     "grade_id": "cell-80ac49f82a7787ba",
     "locked": true,
     "schema_version": 3,
     "solution": false,
     "task": false
    }
   },
   "source": [
    "## Exercise 4 - 5 points\n",
    "Write a function named `cropped` that takes as input a list and an element and returns the list cropped after the second occurence of the given element.  \n",
    "Examples:    \n",
    "[1,2,3,4,5] and 2 => [1,2,3,4,5]     \n",
    "[1,2,5,2,5] and 2 => [1,2,5,2]   \n",
    "[1,5,5,4,5] and 5 => [1,5,5]    \n",
    "['b', 'b', 'c'] and 'b' => ['b', 'b']  \n",
    "['a', 'b', 'c'] and 8 => ['a', 'b', 'c']"
   ]
  },
  {
   "cell_type": "code",
   "execution_count": 128,
   "id": "c8fc4148",
   "metadata": {
    "deletable": false,
    "nbgrader": {
     "cell_type": "code",
     "checksum": "e4f78bc2d5696592c688e6e41b150e5f",
     "grade": false,
     "grade_id": "cell-6fb614898b2e9883",
     "locked": false,
     "schema_version": 3,
     "solution": true,
     "task": false
    }
   },
   "outputs": [],
   "source": [
    "#Do not delete\n",
    "def cropped(list_to_crop, specific_element):\n",
    "    if len(list_to_crop) !=0: \n",
    "        counter=list_to_crop.count(specific_element)\n",
    "        if list_to_crop.count(specific_element) != 0:\n",
    "            idx = list_to_crop.index(specific_element)\n",
    "        if counter==1 or counter==0:\n",
    "            cropped_list=list_to_crop\n",
    "        else:\n",
    "            idx2 = list_to_crop.index(specific_element, idx+1)\n",
    "            cropped_list=list_to_crop[:idx2+1]\n",
    "    else:\n",
    "        cropped_list=list_to_crop\n",
    "    return cropped_list"
   ]
  },
  {
   "cell_type": "code",
   "execution_count": 129,
   "id": "92fec04f",
   "metadata": {},
   "outputs": [
    {
     "name": "stdout",
     "output_type": "stream",
     "text": [
      "[0, 3, 2, 0]\n",
      "[0, 3, 2, 0, 5, 0, 5]\n"
     ]
    }
   ],
   "source": [
    "print(cropped([0, 3, 2, 0, 5, 0, 5], 0))\n",
    "print(cropped([0, 3, 2, 0, 5, 0, 5], 5))"
   ]
  },
  {
   "cell_type": "code",
   "execution_count": 130,
   "id": "532dbc9a",
   "metadata": {
    "deletable": false,
    "editable": false,
    "nbgrader": {
     "cell_type": "code",
     "checksum": "940f6a452aabcf800fc0e997f133d30b",
     "grade": true,
     "grade_id": "cell-b6a0fc2e7b5dff25",
     "locked": true,
     "points": 5,
     "schema_version": 3,
     "solution": false,
     "task": false
    }
   },
   "outputs": [],
   "source": [
    "#Do not delete\n",
    "assert cropped([1,2,2,4,5], 2) == [1,2, 2]\n",
    "assert cropped([1,2,3,4,5], 3) == [1,2,3,4,5]\n",
    "assert cropped([1,2,5,4,5], 5) == [1,2,5,4,5]\n",
    "assert cropped([], 5) == []\n",
    "assert cropped([5,5], 5) == [5,5]\n",
    "assert cropped(['a','b','c','b','e','b','g','h'], 'b') == ['a','b','c','b']\n",
    "assert cropped([1,2,3,4,5,6,7,8], 0) == [1,2,3,4,5,6,7,8]\n",
    "assert cropped([1,8,3,14,2,0,36,14,301,38, 34], 14) == [1,8,3,14,2,0,36,14]\n",
    "assert cropped([\"apple\", \"apple\", \"banana\", \"orange\", \"grapes\",\"melon\"], \"apple\") == [\"apple\", \"apple\"]\n",
    "assert cropped([\"4\", \"4\", \"5\", \"4\", \"5\"], 4) == [\"4\", \"4\", \"5\", \"4\", \"5\"]"
   ]
  },
  {
   "cell_type": "markdown",
   "id": "6a4b9352",
   "metadata": {
    "deletable": false,
    "editable": false,
    "nbgrader": {
     "cell_type": "markdown",
     "checksum": "86a915ecc17dd510a7b91f924f6e2505",
     "grade": false,
     "grade_id": "cell-9708213f98afffbe",
     "locked": true,
     "schema_version": 3,
     "solution": false,
     "task": false
    }
   },
   "source": [
    "## Exercice 5 - 4 points\n",
    "Write a function called `special_sum` that sums a list, but ignores\n",
    "any duplicate items in the list.\n",
    "\n",
    "For instance, for the list [3, 4, 3, 6] , the function should return 10.    \n",
    "For the list [3, 4, 3, 3, 1] , the function should return 5."
   ]
  },
  {
   "cell_type": "code",
   "execution_count": 146,
   "id": "0e891b10",
   "metadata": {
    "deletable": false,
    "nbgrader": {
     "cell_type": "code",
     "checksum": "adc87594377df7dc6728cd4f2bca202d",
     "grade": false,
     "grade_id": "cell-d5e2d76a981a53db",
     "locked": false,
     "schema_version": 3,
     "solution": true,
     "task": false
    }
   },
   "outputs": [],
   "source": [
    "#Do not delete\n",
    "from collections import Counter\n",
    "def special_sum(numbers_list):\n",
    "    count = Counter(numbers_list)\n",
    "    sum = 0\n",
    "    for i,j in enumerate(numbers_list):\n",
    "        if count[j]==1:\n",
    "            sum+=j\n",
    "    return sum"
   ]
  },
  {
   "cell_type": "code",
   "execution_count": 48,
   "id": "75e7a1ee",
   "metadata": {},
   "outputs": [
    {
     "name": "stdout",
     "output_type": "stream",
     "text": [
      "10\n"
     ]
    }
   ],
   "source": [
    "print(special_sum([3,4,3,6]))"
   ]
  },
  {
   "cell_type": "code",
   "execution_count": 49,
   "id": "96e195a2",
   "metadata": {
    "deletable": false,
    "editable": false,
    "nbgrader": {
     "cell_type": "code",
     "checksum": "1826ec47c7730173fd44d9699617d1eb",
     "grade": true,
     "grade_id": "cell-8adb074b3cc66fee",
     "locked": true,
     "points": 4,
     "schema_version": 3,
     "solution": false,
     "task": false
    }
   },
   "outputs": [],
   "source": [
    "#Do not delete\n",
    "assert special_sum([3,4,3,6]) == 10\n",
    "assert special_sum([3,4,3,3,1]) == 5\n",
    "assert special_sum([1,1,3,3,2]) == 2\n",
    "assert special_sum([6, 9, 5, 8, 0, 8, 7, 8, 9, 6, 9, 4, 2, 10, 10]) == 18\n",
    "assert special_sum([2, 0, 8, 1, 9, 9, 6, 4, 3, 6, 6, 10, 4]) == 24\n",
    "assert special_sum([]) == 0\n",
    "assert special_sum([1, 9, 9, 5, 7, 7, 6, 1, 5, 6]) == 0\n",
    "assert special_sum([0, 1, 4, 4, 0, 4, 2, 5, 9, 0, 10, 9, 0, 1, 2]) == 15\n",
    "assert special_sum([5, 6, 10, 3, 10, 10, 6, 7, 0, 9, 1, 1, 6, 3, 1]) == 21\n",
    "assert special_sum([4, 7, 3, 7, 9, 0, 6, 1, 8, 5, 7, 8]) == 28"
   ]
  },
  {
   "cell_type": "markdown",
   "id": "390332d3",
   "metadata": {
    "deletable": false,
    "editable": false,
    "nbgrader": {
     "cell_type": "markdown",
     "checksum": "a481ad69dc8faa9c1ced87ea73d5a5a2",
     "grade": false,
     "grade_id": "cell-96b677cc592690b9",
     "locked": true,
     "schema_version": 3,
     "solution": false,
     "task": false
    }
   },
   "source": [
    "### Exercice 6 - 4 points\n",
    "Write a function called `square_digits` that squares every digit of a number and concatenates them.\n",
    "For example, if we run 9119 through the function, 811181 will come out, because 9 squared 2 is 81 and 1 squared 2 is 1.\n",
    "The function accepts an integer and returns an integer"
   ]
  },
  {
   "cell_type": "code",
   "execution_count": 114,
   "id": "107ca3e0",
   "metadata": {
    "deletable": false,
    "nbgrader": {
     "cell_type": "code",
     "checksum": "660a3fcc8feb66823ee2f9fdc23d87f2",
     "grade": false,
     "grade_id": "cell-ad9c4b72461a68c6",
     "locked": false,
     "schema_version": 3,
     "solution": true,
     "task": false
    }
   },
   "outputs": [],
   "source": [
    "#Do not delete\n",
    "def square_digits(num):\n",
    "    num_str, res = str(num), ''\n",
    "    for i in num_str:\n",
    "        res += str(int(i)**2)\n",
    "    return int(res)"
   ]
  },
  {
   "cell_type": "code",
   "execution_count": 115,
   "id": "dc6bdb68",
   "metadata": {},
   "outputs": [
    {
     "name": "stdout",
     "output_type": "stream",
     "text": [
      "811181\n"
     ]
    }
   ],
   "source": [
    "print(square_digits(9119))"
   ]
  },
  {
   "cell_type": "code",
   "execution_count": 116,
   "id": "a22fd2fb",
   "metadata": {
    "deletable": false,
    "editable": false,
    "nbgrader": {
     "cell_type": "code",
     "checksum": "c886f2c08a321b6565864a5edd30dc28",
     "grade": true,
     "grade_id": "cell-73e0ea8cd931f89a",
     "locked": true,
     "points": 4,
     "schema_version": 3,
     "solution": false,
     "task": false
    }
   },
   "outputs": [],
   "source": [
    "#Do not delete\n",
    "assert square_digits(9119) == 811181\n",
    "assert square_digits( 2112 ) == 4114\n",
    "assert square_digits( 0 ) == 0\n",
    "assert square_digits( 6423 ) == 361649\n",
    "assert square_digits( 5458 ) == 25162564\n",
    "assert square_digits( 5136 ) == 251936\n",
    "assert square_digits( 4983 ) == 1681649\n",
    "assert square_digits( 5188 ) == 2516464"
   ]
  },
  {
   "cell_type": "markdown",
   "id": "2827d1fc",
   "metadata": {
    "deletable": false,
    "editable": false,
    "nbgrader": {
     "cell_type": "markdown",
     "checksum": "73acccd85f0d4a50cb58eb7717afd308",
     "grade": false,
     "grade_id": "cell-9248de6146e43e3a",
     "locked": true,
     "schema_version": 3,
     "solution": false,
     "task": false
    }
   },
   "source": [
    "## Exercice 6 - 6 points\n",
    "Write a function that is called `pascal()` that will create the classic Pascal's triangle.\n",
    "Your function will get as argument the depth of the triangle and your code has to return the corresponding Pascal's triangle up to that depth.\n",
    "\n",
    "The triangle should be returned as a nested array. For example:\n",
    "\n",
    "`pascal(5) -> [[1], [1,1], [1,2,1], [1,3,3,1], [1,4,6,4,1]]`\n",
    "To build the triangle, start with a single 1 at the top, for each number in the next row you just take the two numbers above it and add them together, except for the edges, which are all 1. e.g.:\n",
    "\n",
    "```\n",
    "      1\n",
    "    1   1\n",
    "  1   2   1\n",
    "1   3   3   1\n",
    "```"
   ]
  },
  {
   "cell_type": "code",
   "execution_count": 147,
   "id": "d2b6ebfc",
   "metadata": {
    "deletable": false,
    "nbgrader": {
     "cell_type": "code",
     "checksum": "fdbde35928eb1849b309dc69f98d9e7f",
     "grade": false,
     "grade_id": "cell-4be412224ac45096",
     "locked": false,
     "schema_version": 3,
     "solution": true,
     "task": false
    }
   },
   "outputs": [],
   "source": [
    "#Do not delete\n",
    "def pascal(depth):\n",
    "    if depth == 0:\n",
    "        return []\n",
    "    elif  depth == 1:\n",
    "        return [[1]]\n",
    "    else:\n",
    "        c = pascal(depth-1)\n",
    "        a = [1]\n",
    "        b = c[-1] \n",
    "        for i in range(len(b)-1):\n",
    "            a.append(b[i] + b[i+1]) \n",
    "        a += [1]\n",
    "        c.append(a)\n",
    "        return c"
   ]
  },
  {
   "cell_type": "code",
   "execution_count": 59,
   "id": "7db0a7ac",
   "metadata": {},
   "outputs": [
    {
     "name": "stdout",
     "output_type": "stream",
     "text": [
      "[[1], [1, 1], [1, 2, 1], [1, 3, 3, 1], [1, 4, 6, 4, 1]]\n"
     ]
    }
   ],
   "source": [
    "print(pascal(5))"
   ]
  },
  {
   "cell_type": "code",
   "execution_count": 60,
   "id": "ac0eb0e0",
   "metadata": {
    "deletable": false,
    "editable": false,
    "nbgrader": {
     "cell_type": "code",
     "checksum": "c50b3bfedd11274166d7d79f12dbf36a",
     "grade": true,
     "grade_id": "cell-98501b7f088e2171",
     "locked": true,
     "points": 6,
     "schema_version": 3,
     "solution": false,
     "task": false
    }
   },
   "outputs": [],
   "source": [
    "#Do not delete\n",
    "assert pascal(0) == []\n",
    "assert pascal(1) == [[1]]\n",
    "assert pascal(2) == [[1], [1, 1]]\n",
    "assert pascal(3) == [[1], [1, 1], [1, 2, 1]]\n",
    "assert pascal(4) == [[1], [1, 1], [1, 2, 1], [1, 3, 3, 1]]\n",
    "assert pascal(5) == [[1], [1, 1], [1, 2, 1], [1, 3, 3, 1], [1, 4, 6, 4, 1]]"
   ]
  },
  {
   "cell_type": "markdown",
   "id": "6ace357f",
   "metadata": {
    "deletable": false,
    "editable": false,
    "nbgrader": {
     "cell_type": "markdown",
     "checksum": "d355facd2c153c09125f81288a0aae5d",
     "grade": false,
     "grade_id": "cell-8dd0a2cb3ead23c3",
     "locked": true,
     "schema_version": 3,
     "solution": false,
     "task": false
    }
   },
   "source": [
    "## Exercise 7 - 2 points\n",
    "Write a function called `to_sha256` that converts a given ASCII string to its hexadecimal SHA-256 hash.    \n",
    "What is SHA-256 ? See the following link: https://www.n-able.com/blog/sha-256-encryption      \n",
    "For example the text `'hello'` has the following sha 256 value : `'2cf24dba5fb0a30e26e83b2ac5b9e29e1b161e5c1fa7425e73043362938b9824'`"
   ]
  },
  {
   "cell_type": "code",
   "execution_count": 148,
   "id": "a4f93a52",
   "metadata": {
    "deletable": false,
    "nbgrader": {
     "cell_type": "code",
     "checksum": "17f1644d4d62a2d7fd8df0105203c0d1",
     "grade": false,
     "grade_id": "cell-37779190f1cd8246",
     "locked": false,
     "schema_version": 3,
     "solution": true,
     "task": false
    }
   },
   "outputs": [],
   "source": [
    "#Do not delete\n",
    "import hashlib\n",
    "def to_sha256(text):\n",
    "    sha = hashlib.sha256(text.encode('ascii')).hexdigest()\n",
    "    return sha"
   ]
  },
  {
   "cell_type": "code",
   "execution_count": 68,
   "id": "55c5ed8c",
   "metadata": {},
   "outputs": [
    {
     "name": "stdout",
     "output_type": "stream",
     "text": [
      "2cf24dba5fb0a30e26e83b2ac5b9e29e1b161e5c1fa7425e73043362938b9824\n"
     ]
    }
   ],
   "source": [
    "print(to_sha256(\"hello\"))"
   ]
  },
  {
   "cell_type": "code",
   "execution_count": 69,
   "id": "f18f7dec",
   "metadata": {
    "deletable": false,
    "editable": false,
    "nbgrader": {
     "cell_type": "code",
     "checksum": "840c97e93c7351c90a80e42efd44818f",
     "grade": true,
     "grade_id": "cell-1fa0037393c16599",
     "locked": true,
     "points": 2,
     "schema_version": 3,
     "solution": false,
     "task": false
    }
   },
   "outputs": [],
   "source": [
    "#Do not delete\n",
    "assert to_sha256(\"hello\") == '2cf24dba5fb0a30e26e83b2ac5b9e29e1b161e5c1fa7425e73043362938b9824'\n",
    "assert to_sha256(\"bye\") == 'b49f425a7e1f9cff3856329ada223f2f9d368f15a00cf48df16ca95986137fe8'\n",
    "assert to_sha256(\"python\") == '11a4a60b518bf24989d481468076e5d5982884626aed9faeb35b8576fcd223e1'\n",
    "assert to_sha256(\"What the hell is this SHA 256 nonesense !?!?\") == '4fca3af3580954db3156650e5569af09cd71c54c6be82d0fd312fa34bc39938b'"
   ]
  },
  {
   "cell_type": "markdown",
   "id": "30583a9b",
   "metadata": {
    "deletable": false,
    "editable": false,
    "nbgrader": {
     "cell_type": "markdown",
     "checksum": "df3baf3d7beaac81cc3e06a2d4cf8d19",
     "grade": false,
     "grade_id": "cell-45f46f4cd30494af",
     "locked": true,
     "schema_version": 3,
     "solution": false,
     "task": false
    }
   },
   "source": [
    "## Exercice 8 - 2 points\n",
    "Write a function called `est_subsets` that, given a list of elements, where any element may occur more than once, returns the number of distinct subsets that do not contain a repeated element.\n",
    "For example ` est_subsets([1, 2, 3, 4])` should return `15` as the following possible distinct subsets are:\n",
    "`{{1}, {2}, {3}, {4}, {1,2}, {1,3}, {1,4}, {2,3}, {2,4}, {3,4}, {1,2,3}, {1,2,4}, {1,3,4}, {2,3,4}, {1,2,3,4}}`"
   ]
  },
  {
   "cell_type": "code",
   "execution_count": 107,
   "id": "1a487bb9",
   "metadata": {
    "deletable": false,
    "nbgrader": {
     "cell_type": "code",
     "checksum": "9bc2a62f6c6516628c24aaab003e1c2e",
     "grade": false,
     "grade_id": "cell-0eb1e329fb54f1a7",
     "locked": false,
     "schema_version": 3,
     "solution": true,
     "task": false
    }
   },
   "outputs": [],
   "source": [
    "#Do not delete\n",
    "def est_subsets(array):\n",
    "    array = [*set(array)]\n",
    "    res_arr = []\n",
    "    sub_arr = []\n",
    "    get_uniq_subsets(0, array, sub_arr, res_arr)\n",
    "    res_sub_arr = []\n",
    "    for i in range(len(res_arr)):\n",
    "        res_sub_arr.append(list(res_arr[i]))\n",
    "    return len(res_sub_arr)\n",
    "\n",
    "#Sub Func to iterate and get unique subsets\n",
    "def get_uniq_subsets(idx, array, sub_arr, res_arr): \n",
    "    if (len(sub_arr) != 0):\n",
    "        if (sub_arr not in res_arr):\n",
    "            res_arr.append(sub_arr[:])\n",
    "    for j in range(idx, len(array)):  \n",
    "        sub_arr.append(array[j])\n",
    "        get_uniq_subsets(j + 1, array, sub_arr, res_arr)\n",
    "        sub_arr.pop()"
   ]
  },
  {
   "cell_type": "code",
   "execution_count": 108,
   "id": "87e07c4d",
   "metadata": {},
   "outputs": [
    {
     "data": {
      "text/plain": [
       "15"
      ]
     },
     "execution_count": 108,
     "metadata": {},
     "output_type": "execute_result"
    }
   ],
   "source": [
    "est_subsets([1, 2, 3, 4])"
   ]
  },
  {
   "cell_type": "code",
   "execution_count": 109,
   "id": "1875ff6f",
   "metadata": {
    "deletable": false,
    "editable": false,
    "nbgrader": {
     "cell_type": "code",
     "checksum": "7c16dacb679c48a287cf48187b3095b9",
     "grade": true,
     "grade_id": "cell-031a49d71e71648c",
     "locked": true,
     "points": 2,
     "schema_version": 3,
     "solution": false,
     "task": false
    }
   },
   "outputs": [],
   "source": [
    "#Do not delete\n",
    "assert est_subsets([1, 2, 3, 4]) == 15 \n",
    "assert est_subsets([1, 2, 3, 4, 3, 2]) == 15 \n",
    "assert est_subsets([\"a\", \"b\", \"c\", \"d\"]) == 15 \n",
    "assert est_subsets([\"a\", \"b\", \"c\", \"d\", \"e\"]) == 31 \n",
    "assert est_subsets([11, 562, 12, 214, 2, 281, 2, 873, 93, 11]) == 255 \n",
    "assert est_subsets([True, False, True, True, False]) == 3 \n",
    "assert est_subsets([1]) == 1 \n",
    "assert est_subsets([]) == 0 "
   ]
  },
  {
   "cell_type": "markdown",
   "id": "15ab4d35",
   "metadata": {
    "deletable": false,
    "editable": false,
    "nbgrader": {
     "cell_type": "markdown",
     "checksum": "af72cad548da0fa392dfd7ca401e3691",
     "grade": false,
     "grade_id": "cell-22a7539632db6733",
     "locked": true,
     "schema_version": 3,
     "solution": false,
     "task": false
    }
   },
   "source": [
    "## Exercice 9 - 4 points\n",
    "Write a function called `pairs` that splits a string into pairs of two characters. If the string contains an odd number of characters then it should replace the missing second character of the final pair with an underscore ('_').\n",
    "\n",
    "For example: `pairs('abc')` should return `['ab', 'c_']` and `pairs('abcdef')` should return `['ab', 'cd', 'ef']`"
   ]
  },
  {
   "cell_type": "code",
   "execution_count": 87,
   "id": "50492fa1",
   "metadata": {
    "deletable": false,
    "nbgrader": {
     "cell_type": "code",
     "checksum": "4569f6595efd11cbb5b75a1d1e033272",
     "grade": false,
     "grade_id": "cell-2df6958c5de96965",
     "locked": false,
     "schema_version": 3,
     "solution": true,
     "task": false
    }
   },
   "outputs": [],
   "source": [
    "#Do not delete\n",
    "def pairs(text):\n",
    "    length = len(text)\n",
    "    pair_list=[]\n",
    "    for i in range(0, length, 2):\n",
    "        pair_list.append(text[i:i+2].ljust(2, \"_\"))\n",
    "    return pair_list"
   ]
  },
  {
   "cell_type": "code",
   "execution_count": 88,
   "id": "54d409b4",
   "metadata": {},
   "outputs": [
    {
     "name": "stdout",
     "output_type": "stream",
     "text": [
      "['ab', 'c_']\n"
     ]
    }
   ],
   "source": [
    "print(pairs('abc'))"
   ]
  },
  {
   "cell_type": "code",
   "execution_count": 110,
   "id": "4269b757",
   "metadata": {
    "deletable": false,
    "editable": false,
    "nbgrader": {
     "cell_type": "code",
     "checksum": "66d44482590926cd21e57959132dc799",
     "grade": true,
     "grade_id": "cell-e2288ebe4d674a6e",
     "locked": true,
     "points": 4,
     "schema_version": 3,
     "solution": false,
     "task": false
    }
   },
   "outputs": [],
   "source": [
    "#Do not delete\n",
    "assert pairs('abc') == ['ab', 'c_']\n",
    "assert pairs('abcdef') == ['ab', 'cd', 'ef']\n",
    "assert pairs('hello') == ['he', 'll', 'o_']\n",
    "assert pairs('good morning') == ['go', 'od', ' m', 'or', 'ni', 'ng']\n",
    "assert pairs('testing diverse texts !') == ['te', 'st', 'in', 'g ', 'di', 've', 'rs', 'e ', 'te', 'xt', 's ', '!_']"
   ]
  },
  {
   "cell_type": "markdown",
   "id": "77ee4585",
   "metadata": {
    "deletable": false,
    "editable": false,
    "nbgrader": {
     "cell_type": "markdown",
     "checksum": "630dd035b77796c2911da040e3fe0943",
     "grade": false,
     "grade_id": "cell-0fcb3c9ade224df2",
     "locked": true,
     "schema_version": 3,
     "solution": false,
     "task": false
    }
   },
   "source": [
    "## Exercice 10 - 3 points\n",
    "\n",
    "Write a function called `modify_multiply` that will have the following behavior:\n",
    "\n",
    "1. The function takes a string as its first parameter. This string will be a string of words.\n",
    "\n",
    "2. You are expected to then use the second parameter, which will be an integer, to find the corresponding word in the given string. The first word would be represented by 0.\n",
    "\n",
    "3. Once you have the located string you are finally going to multiply by it the third provided parameter, which will also be an integer. You are additionally required to add a hyphen in between each word.\n",
    "\n",
    "So for example `modify_multiply(\"This is a string\",3 ,5)` will return `\"string-string-string-string-string\"`\n"
   ]
  },
  {
   "cell_type": "code",
   "execution_count": 134,
   "id": "8ccb5b67",
   "metadata": {
    "deletable": false,
    "nbgrader": {
     "cell_type": "code",
     "checksum": "c6cdc07f7b2beaaf2801788d9ea8a44a",
     "grade": false,
     "grade_id": "cell-326fefb2fb79f32c",
     "locked": false,
     "schema_version": 3,
     "solution": true,
     "task": false
    }
   },
   "outputs": [],
   "source": [
    "# Do not delete\n",
    "def modify_multiply(text, index, repetiton):\n",
    "    arr=text.split()\n",
    "    strs=arr[index]\n",
    "    res=''.join((strs,'-'))*repetiton\n",
    "    return res[:-1]"
   ]
  },
  {
   "cell_type": "code",
   "execution_count": 135,
   "id": "7ec0c5ba",
   "metadata": {},
   "outputs": [
    {
     "name": "stdout",
     "output_type": "stream",
     "text": [
      "string-string-string-string-string\n"
     ]
    }
   ],
   "source": [
    "print(modify_multiply(\"This is a string\", 3, 5))"
   ]
  },
  {
   "cell_type": "code",
   "execution_count": 136,
   "id": "654ee2ae",
   "metadata": {
    "deletable": false,
    "editable": false,
    "nbgrader": {
     "cell_type": "code",
     "checksum": "77d9e427dd86e2ea11f14a7d36d9ed90",
     "grade": true,
     "grade_id": "cell-d43587a713566ed0",
     "locked": true,
     "points": 3,
     "schema_version": 3,
     "solution": false,
     "task": false
    }
   },
   "outputs": [],
   "source": [
    "assert modify_multiply(\"This is a string\", 3, 5) == \"string-string-string-string-string\"\n",
    "assert modify_multiply(\"Welcome to this game\", 2, 4) == \"this-this-this-this\"\n",
    "assert modify_multiply(\"What a beautiful day\", 1, 3) == \"a-a-a\""
   ]
  },
  {
   "cell_type": "code",
   "execution_count": null,
   "id": "085950c3",
   "metadata": {},
   "outputs": [],
   "source": []
  }
 ],
 "metadata": {
  "kernelspec": {
   "display_name": "Python 3 (ipykernel)",
   "language": "python",
   "name": "python3"
  },
  "language_info": {
   "codemirror_mode": {
    "name": "ipython",
    "version": 3
   },
   "file_extension": ".py",
   "mimetype": "text/x-python",
   "name": "python",
   "nbconvert_exporter": "python",
   "pygments_lexer": "ipython3",
   "version": "3.11.1"
  },
  "nteract": {
   "version": "nteract-front-end@1.0.0"
  }
 },
 "nbformat": 4,
 "nbformat_minor": 5
}
